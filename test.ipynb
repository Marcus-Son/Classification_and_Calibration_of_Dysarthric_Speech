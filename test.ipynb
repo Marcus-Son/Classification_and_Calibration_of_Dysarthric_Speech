{
 "cells": [
  {
   "cell_type": "code",
   "execution_count": 8,
   "metadata": {},
   "outputs": [
    {
     "ename": "SyntaxError",
     "evalue": "invalid syntax (<unknown>, line 4)",
     "output_type": "error",
     "traceback": [
      "Traceback \u001b[0;36m(most recent call last)\u001b[0m:\n",
      "\u001b[0m  File \u001b[1;32m~/.local/lib/python3.8/site-packages/IPython/core/interactiveshell.py:3460\u001b[0m in \u001b[1;35mrun_code\u001b[0m\n    exec(code_obj, self.user_global_ns, self.user_ns)\u001b[0m\n",
      "\u001b[0m  Cell \u001b[1;32mIn[8], line 6\u001b[0m\n    df['log_mel_spec'] = df['log_mel_spec'].apply(ast.literal_eval).apply(np.array)\u001b[0m\n",
      "\u001b[0m  File \u001b[1;32m~/anaconda3/envs/son/lib/python3.8/site-packages/pandas/core/series.py:4630\u001b[0m in \u001b[1;35mapply\u001b[0m\n    return SeriesApply(self, func, convert_dtype, args, kwargs).apply()\u001b[0m\n",
      "\u001b[0m  File \u001b[1;32m~/anaconda3/envs/son/lib/python3.8/site-packages/pandas/core/apply.py:1025\u001b[0m in \u001b[1;35mapply\u001b[0m\n    return self.apply_standard()\u001b[0m\n",
      "\u001b[0m  File \u001b[1;32m~/anaconda3/envs/son/lib/python3.8/site-packages/pandas/core/apply.py:1076\u001b[0m in \u001b[1;35mapply_standard\u001b[0m\n    mapped = lib.map_infer(\u001b[0m\n",
      "\u001b[0m  File \u001b[1;32mpandas/_libs/lib.pyx:2834\u001b[0m in \u001b[1;35mpandas._libs.lib.map_infer\u001b[0m\n",
      "\u001b[0m  File \u001b[1;32m~/anaconda3/envs/son/lib/python3.8/ast.py:59\u001b[0m in \u001b[1;35mliteral_eval\u001b[0m\n    node_or_string = parse(node_or_string, mode='eval')\u001b[0m\n",
      "\u001b[0;36m  File \u001b[0;32m~/anaconda3/envs/son/lib/python3.8/ast.py:47\u001b[0;36m in \u001b[0;35mparse\u001b[0;36m\n\u001b[0;31m    return compile(source, filename, mode, flags,\u001b[0;36m\n",
      "\u001b[0;36m  File \u001b[0;32m<unknown>:4\u001b[0;36m\u001b[0m\n\u001b[0;31m    ...\u001b[0m\n\u001b[0m    ^\u001b[0m\n\u001b[0;31mSyntaxError\u001b[0m\u001b[0;31m:\u001b[0m invalid syntax\n"
     ]
    }
   ],
   "source": [
    "import pandas as pd\n",
    "import numpy as np\n",
    "import pickle\n",
    "from sklearn.model_selection import train_test_split\n",
    "\n",
    "# 데이터 로드\n",
    "with open('audio_data.pkl', 'rb') as f:\n",
    "    data = pickle.load(f)\n",
    "\n",
    "# 데이터프레임 생성\n",
    "df = pd.DataFrame(data)\n",
    "\n",
    "# 데이터를 8:1:1 비율로 나누기\n",
    "train_df, temp_df = train_test_split(df, test_size=0.2, random_state=42, stratify=df['label'])\n",
    "valid_df, test_df = train_test_split(temp_df, test_size=0.5, random_state=42, stratify=temp_df['label'])\n",
    "\n",
    "# 데이터 개수 확인\n",
    "print(f\"전체 데이터 개수: {len(df)}\")\n",
    "print(f\"언어 데이터 개수: {len(df[df['label'] == 0])}\")\n",
    "print(f\"청각 데이터 개수: {len(df[df['label'] == 1])}\")\n",
    "\n",
    "print(f\"Train 데이터 개수: {len(train_df)}\")\n",
    "print(f\"Validation 데이터 개수: {len(valid_df)}\")\n",
    "print(f\"Test 데이터 개수: {len(test_df)}\")\n",
    "\n",
    "# 각 데이터셋의 레이블 비율 확인\n",
    "def print_label_distribution(dataset, dataset_name):\n",
    "    label_counts = dataset['label'].value_counts()\n",
    "    print(f\"\\n{dataset_name} 데이터 레이블 분포:\")\n",
    "    for label, count in label_counts.items():\n",
    "        print(f\"라벨 {label}: {count} ({count / len(dataset) * 100:.2f}%)\")\n",
    "\n",
    "print_label_distribution(df, \"전체\")\n",
    "print_label_distribution(train_df, \"Train\")\n",
    "print_label_distribution(valid_df, \"Validation\")\n",
    "print_label_distribution(test_df, \"Test\")"
   ]
  },
  {
   "cell_type": "code",
   "execution_count": null,
   "metadata": {},
   "outputs": [],
   "source": [
    "# 데이터와 레이블 준비\n",
    "X_train = np.array([x for x in train_df['log_mel_spec']])\n",
    "y_train = np.array([y for y in train_df['label']])\n",
    "\n",
    "X_valid = np.array([x for x in valid_df['log_mel_spec']])\n",
    "y_valid = np.array([y for y in valid_df['label']])\n",
    "\n",
    "X_test = np.array([x for x in test_df['log_mel_spec']])\n",
    "y_test = np.array([y for y in test_df['label']])"
   ]
  },
  {
   "cell_type": "code",
   "execution_count": null,
   "metadata": {},
   "outputs": [],
   "source": [
    "import tensorflow as tf\n",
    "from tensorflow.keras.models import Sequential\n",
    "from tensorflow.keras.layers import Conv2D, BatchNormalization, AveragePooling2D, Flatten, Dense\n",
    "# 모델 구성\n",
    "model = Sequential([\n",
    "    Conv2D(8, kernel_size=(3, 3), activation='relu', input_shape=(28, 28, 3)),\n",
    "    BatchNormalization(),\n",
    "    AveragePooling2D(pool_size=(2, 2)),\n",
    "\n",
    "    Conv2D(16, kernel_size=(3, 3), activation='relu'),\n",
    "    BatchNormalization(),\n",
    "    AveragePooling2D(pool_size=(2, 2)),\n",
    "\n",
    "    Conv2D(32, kernel_size=(3, 3), activation='relu'),\n",
    "    BatchNormalization(),\n",
    "    AveragePooling2D(pool_size=(2, 2)),\n",
    "\n",
    "    Flatten(),\n",
    "    Dense(512, activation='relu'),\n",
    "    Dense(128, activation='relu'),\n",
    "    Dense(128, activation='relu'),\n",
    "    Dense(2, activation='softmax')\n",
    "    ])# 클래스 수에 따라 출력 노드 수 조정"
   ]
  },
  {
   "cell_type": "code",
   "execution_count": null,
   "metadata": {},
   "outputs": [],
   "source": [
    "# 모델 컴파일\n",
    "model.compile(optimizer='adam', loss='sparse_categorical_crossentropy', metrics=['accuracy'])\n",
    "\n",
    "# 모델 학습\n",
    "history = model.fit(X_train, y_train, epochs=20, batch_size=32, validation_data=(X_valid, y_valid))\n",
    "\n",
    "# 모델 평가\n",
    "loss, accuracy = model.evaluate(X_test, y_test)\n",
    "print(f\"Test Accuracy: {accuracy * 100:.2f}%\")"
   ]
  }
 ],
 "metadata": {
  "kernelspec": {
   "display_name": "son",
   "language": "python",
   "name": "python3"
  },
  "language_info": {
   "codemirror_mode": {
    "name": "ipython",
    "version": 3
   },
   "file_extension": ".py",
   "mimetype": "text/x-python",
   "name": "python",
   "nbconvert_exporter": "python",
   "pygments_lexer": "ipython3",
   "version": "3.8.18"
  }
 },
 "nbformat": 4,
 "nbformat_minor": 2
}
